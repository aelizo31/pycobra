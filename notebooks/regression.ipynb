{
 "cells": [
  {
   "cell_type": "markdown",
   "metadata": {},
   "source": [
    "## Playing with Regression\n",
    "\n",
    "This notebook will help us with testing different regression techniques, and eventually, test COBRA. \n",
    "\n",
    "So for now we will generate a random data-set and try some of the popular regression techniques on it, after it has been loaded to COBRA.\n",
    "\n",
    "#### Imports"
   ]
  },
  {
   "cell_type": "code",
   "execution_count": 1,
   "metadata": {
    "collapsed": false
   },
   "outputs": [],
   "source": [
    "from pycobra.cobra import Cobra\n",
    "from pycobra.diagnostics import Diagnostics\n",
    "import numpy as np\n",
    "%matplotlib inline"
   ]
  },
  {
   "cell_type": "markdown",
   "metadata": {},
   "source": [
    "#### Setting up data set"
   ]
  },
  {
   "cell_type": "code",
   "execution_count": 2,
   "metadata": {
    "collapsed": false
   },
   "outputs": [],
   "source": [
    "# setting up our random data-set\n",
    "rng = np.random.RandomState(1)\n",
    "\n",
    "# D1 = train machines; D2 = create COBRA; D3 = calibrate epsilon, alpha; D4 = testing\n",
    "n_features = 20\n",
    "D1, D2, D3, D4 = 200, 200, 200, 200\n",
    "D = D1 + D2 + D3 + D4\n",
    "X = rng.uniform(-1, 1, D * n_features).reshape(D, n_features)\n",
    "Y = np.power(X[:,1], 2) + np.power(X[:,3], 3) + np.exp(X[:,10]) \n",
    "# Y = np.power(X[:,0], 2) + np.power(X[:,1], 3)\n",
    "\n",
    "# training data-set\n",
    "X_train = X[:D1 + D2]\n",
    "X_test = X[D1 + D2 + D3:D1 + D2 + D3 + D4]\n",
    "X_eps = X[D1 + D2:D1 + D2 + D3]\n",
    "# for testing\n",
    "Y_train = Y[:D1 + D2]\n",
    "Y_test = Y[D1 + D2 + D3:D1 + D2 + D3 + D4]\n",
    "Y_eps = Y[D1 + D2:D1 + D2 + D3]"
   ]
  },
  {
   "cell_type": "markdown",
   "metadata": {},
   "source": [
    "### Setting up COBRA\n",
    "\n",
    "Let's up our COBRA machine with the data."
   ]
  },
  {
   "cell_type": "code",
   "execution_count": 3,
   "metadata": {
    "collapsed": false
   },
   "outputs": [
    {
     "data": {
      "text/plain": [
       "Cobra(random_state=0)"
      ]
     },
     "execution_count": 3,
     "metadata": {},
     "output_type": "execute_result"
    }
   ],
   "source": [
    "COBRA = Cobra(random_state=0)\n",
    "COBRA.fit(X_train, Y_train, epsilon=0.5, default=False)"
   ]
  },
  {
   "cell_type": "markdown",
   "metadata": {},
   "source": [
    "When we are fitting, we initialise COBRA with an epsilon value of $0.5$ - this is because we are aware of the distribution and 0.5 is a fair guess of what would be a \"good\" epsilon value, because the data varies from $-1$ to $1$. \n",
    "\n",
    "If we do not pass the $\\epsilon$ parameter, it auto sets it as $\\frac{\\epsilon_{max} - \\epsilon_{min}}{2}$. An alternate approach is to use the diagnostics class to find an optimal epsilon for the data-set.\n",
    "\n",
    "It can be noticed that the `default` parameter is set as false: this is so we can walk you through what happens when COBRA is set-up, instead of the deafult settings being used."
   ]
  },
  {
   "cell_type": "markdown",
   "metadata": {},
   "source": [
    "We're now going to split our dataset into two parts, and shuffle data points."
   ]
  },
  {
   "cell_type": "code",
   "execution_count": 4,
   "metadata": {
    "collapsed": false
   },
   "outputs": [],
   "source": [
    "COBRA.split_data(D1, D1 + D2, shuffle_data=True)"
   ]
  },
  {
   "cell_type": "markdown",
   "metadata": {},
   "source": [
    "Let's load the default machines to COBRA."
   ]
  },
  {
   "cell_type": "code",
   "execution_count": 5,
   "metadata": {
    "collapsed": false
   },
   "outputs": [],
   "source": [
    "COBRA.load_default()"
   ]
  },
  {
   "cell_type": "markdown",
   "metadata": {},
   "source": [
    "We note here that further machines can be loaded using either the `loadMachine()` and `loadSKMachine()` methods. The only prerequisite is that the machine has a valid `predict()` method."
   ]
  },
  {
   "cell_type": "markdown",
   "metadata": {},
   "source": [
    "## Using COBRA's machines\n",
    "\n",
    "We've created our random dataset and now we're going to use the default sci-kit machines to see what the results look like."
   ]
  },
  {
   "cell_type": "code",
   "execution_count": 6,
   "metadata": {
    "collapsed": true
   },
   "outputs": [],
   "source": [
    "query = X_test[9].reshape(1, -1)"
   ]
  },
  {
   "cell_type": "code",
   "execution_count": 7,
   "metadata": {
    "collapsed": false
   },
   "outputs": [
    {
     "data": {
      "text/plain": [
       "{'lasso': LassoCV(alphas=None, copy_X=True, cv=None, eps=0.001, fit_intercept=True,\n",
       "     max_iter=1000, n_alphas=100, n_jobs=1, normalize=False, positive=False,\n",
       "     precompute='auto', random_state=0, selection='cyclic', tol=0.0001,\n",
       "     verbose=False),\n",
       " 'random_forest': RandomForestRegressor(bootstrap=True, criterion='mse', max_depth=None,\n",
       "            max_features='auto', max_leaf_nodes=None,\n",
       "            min_impurity_split=1e-07, min_samples_leaf=1,\n",
       "            min_samples_split=2, min_weight_fraction_leaf=0.0,\n",
       "            n_estimators=10, n_jobs=1, oob_score=False, random_state=0,\n",
       "            verbose=0, warm_start=False),\n",
       " 'ridge': RidgeCV(alphas=(0.1, 1.0, 10.0), cv=None, fit_intercept=True, gcv_mode=None,\n",
       "     normalize=False, scoring=None, store_cv_values=False),\n",
       " 'tree': DecisionTreeRegressor(criterion='mse', max_depth=None, max_features=None,\n",
       "            max_leaf_nodes=None, min_impurity_split=1e-07,\n",
       "            min_samples_leaf=1, min_samples_split=2,\n",
       "            min_weight_fraction_leaf=0.0, presort=False, random_state=0,\n",
       "            splitter='best')}"
      ]
     },
     "execution_count": 7,
     "metadata": {},
     "output_type": "execute_result"
    }
   ],
   "source": [
    "COBRA.machines"
   ]
  },
  {
   "cell_type": "code",
   "execution_count": 8,
   "metadata": {
    "collapsed": false
   },
   "outputs": [
    {
     "data": {
      "text/plain": [
       "array([ 0.03458938])"
      ]
     },
     "execution_count": 8,
     "metadata": {},
     "output_type": "execute_result"
    }
   ],
   "source": [
    "COBRA.machines['lasso'].predict(query)"
   ]
  },
  {
   "cell_type": "code",
   "execution_count": 9,
   "metadata": {
    "collapsed": false
   },
   "outputs": [
    {
     "data": {
      "text/plain": [
       "array([ 0.22769628])"
      ]
     },
     "execution_count": 9,
     "metadata": {},
     "output_type": "execute_result"
    }
   ],
   "source": [
    "COBRA.machines['tree'].predict(query)"
   ]
  },
  {
   "cell_type": "code",
   "execution_count": 10,
   "metadata": {
    "collapsed": false
   },
   "outputs": [
    {
     "data": {
      "text/plain": [
       "array([ 0.06747291])"
      ]
     },
     "execution_count": 10,
     "metadata": {},
     "output_type": "execute_result"
    }
   ],
   "source": [
    "COBRA.machines['ridge'].predict(query)"
   ]
  },
  {
   "cell_type": "code",
   "execution_count": 11,
   "metadata": {
    "collapsed": false
   },
   "outputs": [
    {
     "data": {
      "text/plain": [
       "array([ 0.3382969])"
      ]
     },
     "execution_count": 11,
     "metadata": {},
     "output_type": "execute_result"
    }
   ],
   "source": [
    "COBRA.machines['random_forest'].predict(query)"
   ]
  },
  {
   "cell_type": "markdown",
   "metadata": {},
   "source": [
    "## Aggregate!\n",
    "\n",
    "By using the aggregate function we can combine our predictors.\n",
    "You can read about the aggregation procedure either in the original COBRA paper or look around in the source code for the algorithm.\n",
    "\n",
    "We start by loading each machine's predictions now."
   ]
  },
  {
   "cell_type": "code",
   "execution_count": 12,
   "metadata": {
    "collapsed": false
   },
   "outputs": [],
   "source": [
    "COBRA.load_machine_predictions()"
   ]
  },
  {
   "cell_type": "code",
   "execution_count": 13,
   "metadata": {
    "collapsed": false
   },
   "outputs": [
    {
     "data": {
      "text/plain": [
       "array([ 0.17416263])"
      ]
     },
     "execution_count": 13,
     "metadata": {},
     "output_type": "execute_result"
    }
   ],
   "source": [
    "COBRA.predict(query)"
   ]
  },
  {
   "cell_type": "code",
   "execution_count": 14,
   "metadata": {
    "collapsed": false
   },
   "outputs": [
    {
     "data": {
      "text/plain": [
       "0.0095390633892067367"
      ]
     },
     "execution_count": 14,
     "metadata": {},
     "output_type": "execute_result"
    }
   ],
   "source": [
    "Y_test[9]"
   ]
  },
  {
   "cell_type": "markdown",
   "metadata": {},
   "source": [
    "### Optimizing COBRA\n",
    "\n",
    "To squeeze the best out of COBRA we make use of the COBRA diagnostics class. With a grid based approach to optimizing hyperparameters, we can find out the best epsilon value, number of machines (alpha value), and combination of machines."
   ]
  },
  {
   "cell_type": "markdown",
   "metadata": {},
   "source": [
    "Let's check the MSE for each of COBRAs machines:"
   ]
  },
  {
   "cell_type": "code",
   "execution_count": 15,
   "metadata": {
    "collapsed": false
   },
   "outputs": [],
   "source": [
    "cobra_diagnostics = Diagnostics(COBRA, X_test, Y_test, load_MSE=True)"
   ]
  },
  {
   "cell_type": "code",
   "execution_count": 16,
   "metadata": {
    "collapsed": false
   },
   "outputs": [
    {
     "data": {
      "text/plain": [
       "{'COBRA': 0.11676229232677286,\n",
       " 'lasso': 0.14418311058520605,\n",
       " 'random_forest': 0.1087898042447215,\n",
       " 'ridge': 0.17014683933749455,\n",
       " 'tree': 0.16080252584960136}"
      ]
     },
     "execution_count": 16,
     "metadata": {},
     "output_type": "execute_result"
    }
   ],
   "source": [
    "cobra_diagnostics.machine_MSE"
   ]
  },
  {
   "cell_type": "markdown",
   "metadata": {},
   "source": [
    "This error is bound by the value $C\\mathscr{l}^{\\frac{-2}{M + 2}}$ upto a constant $C$, which is problem dependant. For more details, we refer the user to the original [paper](http://www.sciencedirect.com/science/article/pii/S0047259X15000950)."
   ]
  },
  {
   "cell_type": "code",
   "execution_count": 17,
   "metadata": {
    "collapsed": false
   },
   "outputs": [
    {
     "data": {
      "text/plain": [
       "0.005"
      ]
     },
     "execution_count": 17,
     "metadata": {},
     "output_type": "execute_result"
    }
   ],
   "source": [
    "cobra_diagnostics.error_bound"
   ]
  },
  {
   "cell_type": "markdown",
   "metadata": {},
   "source": [
    "### Playing with Data-Splitting\n",
    "\n",
    "When we initially started to set up COBRA, we split our training data into two further parts - $D_k$, and $D_l$. \n",
    "This split was done 50-50, but it is upto us how we wish to do this. \n",
    "The following section will compare 20-80, 60-40, 50-50, 40-60, 80-20 and check for which case we get the best MSE values, for a fixed Epsilon (or use a grid)."
   ]
  },
  {
   "cell_type": "code",
   "execution_count": 18,
   "metadata": {
    "collapsed": false
   },
   "outputs": [
    {
     "data": {
      "text/plain": [
       "((0.6, 0.4), 0.15616846498001469)"
      ]
     },
     "execution_count": 18,
     "metadata": {},
     "output_type": "execute_result"
    }
   ],
   "source": [
    "cobra_diagnostics.optimal_split(X_eps, Y_eps)"
   ]
  },
  {
   "cell_type": "markdown",
   "metadata": {},
   "source": [
    "What we saw was the default result, with the optimal split ratio and the corresponding MSE. We can do a further analysis here by enabling the info and graph options, and using more values to split on."
   ]
  },
  {
   "cell_type": "code",
   "execution_count": 19,
   "metadata": {
    "collapsed": true
   },
   "outputs": [],
   "source": [
    "split = [(0.05, 0.95), (0.10, 0.90), (0.20, 0.80), (0.40, 0.60), (0.50, 0.50), (0.60, 0.40), (0.80, 0.20), (0.90, 0.10), (0.95, 0.05)]"
   ]
  },
  {
   "cell_type": "code",
   "execution_count": 20,
   "metadata": {
    "collapsed": false
   },
   "outputs": [
    {
     "data": {
      "text/plain": [
       "{(0.05, 0.95): 0.19202019188580788,\n",
       " (0.1, 0.9): 0.17520892258105461,\n",
       " (0.2, 0.8): 0.23151759840614836,\n",
       " (0.4, 0.6): 0.23683316621686501,\n",
       " (0.5, 0.5): 0.32127704313823729,\n",
       " (0.6, 0.4): 0.15616846498001469,\n",
       " (0.8, 0.2): 0.95682544119229107,\n",
       " (0.9, 0.1): 0.93142065432424292,\n",
       " (0.95, 0.05): 1.3416911786336805}"
      ]
     },
     "execution_count": 20,
     "metadata": {},
     "output_type": "execute_result"
    },
    {
     "data": {
      "image/png": "[encoded data removed]",
      "text/plain": [
       "<matplotlib.figure.Figure at 0x10eda9cd0>"
      ]
     },
     "metadata": {},
     "output_type": "display_data"
    }
   ],
   "source": [
    "cobra_diagnostics.optimal_split(X_eps, Y_eps, split=split, info=True, graph=True)"
   ]
  },
  {
   "cell_type": "markdown",
   "metadata": {},
   "source": [
    "### Alpha, Epsilon and Machines\n",
    "\n",
    "The following are methods to idetify the optimal epislon values, alpha values, and combination of machines. \n",
    "The grid methods allow for us to predict for a single point the optimal alpha/machines and epsilon combination."
   ]
  },
  {
   "cell_type": "code",
   "execution_count": 21,
   "metadata": {
    "collapsed": false,
    "scrolled": true
   },
   "outputs": [
    {
     "data": {
      "text/plain": [
       "(0.70018379287582377, 0.13841628965970582)"
      ]
     },
     "execution_count": 21,
     "metadata": {},
     "output_type": "execute_result"
    }
   ],
   "source": [
    "cobra_diagnostics.optimal_epsilon(X_eps, Y_eps, line_points=100)"
   ]
  },
  {
   "cell_type": "code",
   "execution_count": 22,
   "metadata": {
    "collapsed": false
   },
   "outputs": [
    {
     "data": {
      "text/plain": [
       "{1: 0.54613120506702928,\n",
       " 2: 0.26558629392035721,\n",
       " 3: 0.14791033373095527,\n",
       " 4: 0.32127704313823729}"
      ]
     },
     "execution_count": 22,
     "metadata": {},
     "output_type": "execute_result"
    }
   ],
   "source": [
    "cobra_diagnostics.optimal_alpha(X_eps, Y_eps, info=True)"
   ]
  },
  {
   "cell_type": "code",
   "execution_count": 23,
   "metadata": {
    "collapsed": false
   },
   "outputs": [
    {
     "data": {
      "text/plain": [
       "{('lasso',): 0.1407860103177685,\n",
       " ('random_forest',): 0.21212098528993584,\n",
       " ('random_forest', 'lasso'): 0.12339036829571512,\n",
       " ('ridge',): 0.15102495085167283,\n",
       " ('ridge', 'lasso'): 0.13834965656755716,\n",
       " ('ridge', 'random_forest'): 0.12856244062945194,\n",
       " ('ridge', 'random_forest', 'lasso'): 0.12295632019406173,\n",
       " ('ridge', 'tree'): 0.29304405824493457,\n",
       " ('ridge', 'tree', 'lasso'): 0.28395171729027024,\n",
       " ('ridge', 'tree', 'random_forest'): 0.32890802098373911,\n",
       " ('ridge', 'tree', 'random_forest', 'lasso'): 0.32127704313823729,\n",
       " ('tree',): 0.30387747420693395,\n",
       " ('tree', 'lasso'): 0.26111327023221614,\n",
       " ('tree', 'random_forest'): 0.256264208732493,\n",
       " ('tree', 'random_forest', 'lasso'): 0.32063208637983537}"
      ]
     },
     "execution_count": 23,
     "metadata": {},
     "output_type": "execute_result"
    }
   ],
   "source": [
    "cobra_diagnostics.optimal_machines(X_eps, Y_eps, info=True)"
   ]
  },
  {
   "cell_type": "code",
   "execution_count": 24,
   "metadata": {
    "collapsed": false
   },
   "outputs": [
    {
     "data": {
      "text/plain": [
       "((3, 0.14003675857516476), array([ 0.00152035]))"
      ]
     },
     "execution_count": 24,
     "metadata": {},
     "output_type": "execute_result"
    }
   ],
   "source": [
    "cobra_diagnostics.optimal_alpha_grid(X_eps[0], Y_eps[0], line_points=100)"
   ]
  },
  {
   "cell_type": "code",
   "execution_count": 25,
   "metadata": {
    "collapsed": false
   },
   "outputs": [
    {
     "data": {
      "text/plain": [
       "((('ridge', 'tree'), 0.3150827067941207), array([ 0.00026928]))"
      ]
     },
     "execution_count": 25,
     "metadata": {},
     "output_type": "execute_result"
    }
   ],
   "source": [
    "cobra_diagnostics.optimal_machines_grid(X_eps[0], Y_eps[0], line_points=100)"
   ]
  },
  {
   "cell_type": "markdown",
   "metadata": {},
   "source": [
    "Increasing the number of line points helps in finding a better optimal value. These are the results for the same point. The MSEs are to the second value of the tuple.\n",
    "\n",
    "With 10:\n",
    "((('ridge', 'random_forest', 'lasso'), 1.1063905961135443), 0.96254542159345469)\n",
    " \n",
    "With 20: \n",
    "((('tree', 'random_forest'), 0.87346626008964035), 0.53850941611803993)\n",
    "\n",
    "With 50:\n",
    "((('ridge', 'tree'), 0.94833479666875231), 0.48256303899450931)\n",
    "\n",
    "With 100:\n",
    "((('ridge', 'tree', 'random_forest'), 0.10058096328304948), 0.30285776885759158)\n",
    "\n",
    "With 200: \n",
    "((('ridge', 'tree', 'lasso'), 0.10007553130675276), 0.30285776885759158)"
   ]
  },
  {
   "cell_type": "markdown",
   "metadata": {},
   "source": [
    "pycobra is Licensed under the MIT License - https://opensource.org/licenses/MIT"
   ]
  }
 ],
 "metadata": {
  "kernelspec": {
   "display_name": "Python 2",
   "language": "python",
   "name": "python2"
  },
  "language_info": {
   "codemirror_mode": {
    "name": "ipython",
    "version": 2
   },
   "file_extension": ".py",
   "mimetype": "text/x-python",
   "name": "python",
   "nbconvert_exporter": "python",
   "pygments_lexer": "ipython2",
   "version": "2.7.12"
  }
 },
 "nbformat": 4,
 "nbformat_minor": 1
}
