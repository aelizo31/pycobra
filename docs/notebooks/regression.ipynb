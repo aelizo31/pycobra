{
 "cells": [
  {
   "cell_type": "markdown",
   "metadata": {},
   "source": [
    "## Playing with Regression\n",
    "\n",
    "This notebook will help us with testing different regression techniques, and demonstrate the diagnostic class which can be used to find the optimal parameters for COBRA.\n",
    "\n",
    "So for now we will generate a random data-set and try some of the popular regression techniques on it, after it has been loaded to COBRA.\n",
    "\n",
    "#### Imports"
   ]
  },
  {
   "cell_type": "code",
   "execution_count": 1,
   "metadata": {},
   "outputs": [],
   "source": [
    "from pycobra.cobra import Cobra\n",
    "from pycobra.diagnostics import Diagnostics\n",
    "import numpy as np\n",
    "%matplotlib inline"
   ]
  },
  {
   "cell_type": "markdown",
   "metadata": {},
   "source": [
    "#### Setting up data set"
   ]
  },
  {
   "cell_type": "code",
   "execution_count": 2,
   "metadata": {},
   "outputs": [],
   "source": [
    "# setting up our random data-set\n",
    "rng = np.random.RandomState(1)\n",
    "\n",
    "# D1 = train machines; D2 = create COBRA; D3 = calibrate epsilon, alpha; D4 = testing\n",
    "n_features = 20\n",
    "D1, D2, D3, D4 = 200, 200, 200, 200\n",
    "D = D1 + D2 + D3 + D4\n",
    "X = rng.uniform(-1, 1, D * n_features).reshape(D, n_features)\n",
    "Y = np.power(X[:,1], 2) + np.power(X[:,3], 3) + np.exp(X[:,10]) \n",
    "# Y = np.power(X[:,0], 2) + np.power(X[:,1], 3)\n",
    "\n",
    "# training data-set\n",
    "X_train = X[:D1 + D2]\n",
    "X_test = X[D1 + D2 + D3:D1 + D2 + D3 + D4]\n",
    "X_eps = X[D1 + D2:D1 + D2 + D3]\n",
    "# for testing\n",
    "Y_train = Y[:D1 + D2]\n",
    "Y_test = Y[D1 + D2 + D3:D1 + D2 + D3 + D4]\n",
    "Y_eps = Y[D1 + D2:D1 + D2 + D3]"
   ]
  },
  {
   "cell_type": "markdown",
   "metadata": {},
   "source": [
    "### Setting up COBRA\n",
    "\n",
    "Let's up our COBRA machine with the data."
   ]
  },
  {
   "cell_type": "code",
   "execution_count": 3,
   "metadata": {},
   "outputs": [
    {
     "data": {
      "text/plain": [
       "Cobra(epsilon=0.5, machines=None, random_state=0)"
      ]
     },
     "execution_count": 3,
     "metadata": {},
     "output_type": "execute_result"
    }
   ],
   "source": [
    "cobra = Cobra(random_state=0, epsilon=0.5)\n",
    "cobra.fit(X_train, Y_train, default=False)"
   ]
  },
  {
   "cell_type": "markdown",
   "metadata": {},
   "source": [
    "When we are fitting, we initialise COBRA with an epsilon value of $0.5$ - this is because we are aware of the distribution and 0.5 is a fair guess of what would be a \"good\" epsilon value, because the data varies from $-1$ to $1$. \n",
    "\n",
    "If we do not pass the $\\epsilon$ parameter, we perform a CV on the training data for an optimised epsilon.\n",
    "\n",
    "It can be noticed that the `default` parameter is set as false: this is so we can walk you through what happens when COBRA is set-up, instead of the deafult settings being used."
   ]
  },
  {
   "cell_type": "markdown",
   "metadata": {},
   "source": [
    "We're now going to split our dataset into two parts, and shuffle data points."
   ]
  },
  {
   "cell_type": "code",
   "execution_count": 4,
   "metadata": {},
   "outputs": [
    {
     "data": {
      "text/plain": [
       "Cobra(epsilon=0.5, machines=None, random_state=0)"
      ]
     },
     "execution_count": 4,
     "metadata": {},
     "output_type": "execute_result"
    }
   ],
   "source": [
    "cobra.split_data(D1, D1 + D2, shuffle_data=True)"
   ]
  },
  {
   "cell_type": "markdown",
   "metadata": {},
   "source": [
    "Let's load the default machines to COBRA."
   ]
  },
  {
   "cell_type": "code",
   "execution_count": 5,
   "metadata": {},
   "outputs": [
    {
     "data": {
      "text/plain": [
       "Cobra(epsilon=0.5, machines=None, random_state=0)"
      ]
     },
     "execution_count": 5,
     "metadata": {},
     "output_type": "execute_result"
    }
   ],
   "source": [
    "cobra.load_default()"
   ]
  },
  {
   "cell_type": "markdown",
   "metadata": {},
   "source": [
    "We note here that further machines can be loaded using either the `loadMachine()` and `loadSKMachine()` methods. The only prerequisite is that the machine has a valid `predict()` method."
   ]
  },
  {
   "cell_type": "markdown",
   "metadata": {},
   "source": [
    "## Using COBRA's machines\n",
    "\n",
    "We've created our random dataset and now we're going to use the default sci-kit machines to see what the results look like."
   ]
  },
  {
   "cell_type": "code",
   "execution_count": 6,
   "metadata": {
    "collapsed": true
   },
   "outputs": [],
   "source": [
    "query = X_test[9].reshape(1, -1)"
   ]
  },
  {
   "cell_type": "code",
   "execution_count": 7,
   "metadata": {},
   "outputs": [
    {
     "data": {
      "text/plain": [
       "{'lasso': LassoCV(alphas=None, copy_X=True, cv=None, eps=0.001, fit_intercept=True,\n",
       "     max_iter=1000, n_alphas=100, n_jobs=1, normalize=False, positive=False,\n",
       "     precompute='auto', random_state=0, selection='cyclic', tol=0.0001,\n",
       "     verbose=False),\n",
       " 'random_forest': RandomForestRegressor(bootstrap=True, criterion='mse', max_depth=None,\n",
       "            max_features='auto', max_leaf_nodes=None,\n",
       "            min_impurity_decrease=0.0, min_impurity_split=None,\n",
       "            min_samples_leaf=1, min_samples_split=2,\n",
       "            min_weight_fraction_leaf=0.0, n_estimators=10, n_jobs=1,\n",
       "            oob_score=False, random_state=0, verbose=0, warm_start=False),\n",
       " 'ridge': RidgeCV(alphas=(0.1, 1.0, 10.0), cv=None, fit_intercept=True, gcv_mode=None,\n",
       "     normalize=False, scoring=None, store_cv_values=False),\n",
       " 'tree': DecisionTreeRegressor(criterion='mse', max_depth=None, max_features=None,\n",
       "            max_leaf_nodes=None, min_impurity_decrease=0.0,\n",
       "            min_impurity_split=None, min_samples_leaf=1,\n",
       "            min_samples_split=2, min_weight_fraction_leaf=0.0,\n",
       "            presort=False, random_state=0, splitter='best')}"
      ]
     },
     "execution_count": 7,
     "metadata": {},
     "output_type": "execute_result"
    }
   ],
   "source": [
    "cobra.machines_"
   ]
  },
  {
   "cell_type": "code",
   "execution_count": 8,
   "metadata": {},
   "outputs": [
    {
     "data": {
      "text/plain": [
       "array([ 0.03458938])"
      ]
     },
     "execution_count": 8,
     "metadata": {},
     "output_type": "execute_result"
    }
   ],
   "source": [
    "cobra.machines_['lasso'].predict(query)"
   ]
  },
  {
   "cell_type": "code",
   "execution_count": 9,
   "metadata": {},
   "outputs": [
    {
     "data": {
      "text/plain": [
       "array([ 0.22769628])"
      ]
     },
     "execution_count": 9,
     "metadata": {},
     "output_type": "execute_result"
    }
   ],
   "source": [
    "cobra.machines_['tree'].predict(query)"
   ]
  },
  {
   "cell_type": "code",
   "execution_count": 10,
   "metadata": {},
   "outputs": [
    {
     "data": {
      "text/plain": [
       "array([ 0.06747291])"
      ]
     },
     "execution_count": 10,
     "metadata": {},
     "output_type": "execute_result"
    }
   ],
   "source": [
    "cobra.machines_['ridge'].predict(query)"
   ]
  },
  {
   "cell_type": "code",
   "execution_count": 11,
   "metadata": {},
   "outputs": [
    {
     "data": {
      "text/plain": [
       "array([ 0.3382969])"
      ]
     },
     "execution_count": 11,
     "metadata": {},
     "output_type": "execute_result"
    }
   ],
   "source": [
    "cobra.machines_['random_forest'].predict(query)"
   ]
  },
  {
   "cell_type": "markdown",
   "metadata": {},
   "source": [
    "## Aggregate!\n",
    "\n",
    "By using the aggregate function we can combine our predictors.\n",
    "You can read about the aggregation procedure either in the original COBRA paper or look around in the source code for the algorithm.\n",
    "\n",
    "We start by loading each machine's predictions now."
   ]
  },
  {
   "cell_type": "code",
   "execution_count": 12,
   "metadata": {},
   "outputs": [
    {
     "data": {
      "text/plain": [
       "Cobra(epsilon=0.5, machines=None, random_state=0)"
      ]
     },
     "execution_count": 12,
     "metadata": {},
     "output_type": "execute_result"
    }
   ],
   "source": [
    "cobra.load_machine_predictions()"
   ]
  },
  {
   "cell_type": "code",
   "execution_count": 13,
   "metadata": {},
   "outputs": [
    {
     "data": {
      "text/plain": [
       "array([ 0.17416263])"
      ]
     },
     "execution_count": 13,
     "metadata": {},
     "output_type": "execute_result"
    }
   ],
   "source": [
    "cobra.predict(query)"
   ]
  },
  {
   "cell_type": "code",
   "execution_count": 14,
   "metadata": {},
   "outputs": [
    {
     "data": {
      "text/plain": [
       "0.0095390633892067367"
      ]
     },
     "execution_count": 14,
     "metadata": {},
     "output_type": "execute_result"
    }
   ],
   "source": [
    "Y_test[9]"
   ]
  },
  {
   "cell_type": "markdown",
   "metadata": {},
   "source": [
    "### Optimizing COBRA\n",
    "\n",
    "To squeeze the best out of COBRA we make use of the COBRA diagnostics class. With a grid based approach to optimizing hyperparameters, we can find out the best epsilon value, number of machines (alpha value), and combination of machines."
   ]
  },
  {
   "cell_type": "markdown",
   "metadata": {},
   "source": [
    "Let's check the MSE for each of COBRAs machines:"
   ]
  },
  {
   "cell_type": "code",
   "execution_count": 15,
   "metadata": {},
   "outputs": [],
   "source": [
    "cobra_diagnostics = Diagnostics(cobra, X_test, Y_test, load_MSE=True)"
   ]
  },
  {
   "cell_type": "code",
   "execution_count": 16,
   "metadata": {},
   "outputs": [
    {
     "data": {
      "text/plain": [
       "{'COBRA': 0.11676229232677286,\n",
       " 'lasso': 0.14418311058520605,\n",
       " 'random_forest': 0.1087898042447215,\n",
       " 'ridge': 0.17014683933749455,\n",
       " 'tree': 0.16080252584960136}"
      ]
     },
     "execution_count": 16,
     "metadata": {},
     "output_type": "execute_result"
    }
   ],
   "source": [
    "cobra_diagnostics.machine_MSE"
   ]
  },
  {
   "cell_type": "markdown",
   "metadata": {},
   "source": [
    "This error is bound by the value $C\\mathscr{l}^{\\frac{-2}{M + 2}}$ upto a constant $C$, which is problem dependant. For more details, we refer the user to the original [paper](http://www.sciencedirect.com/science/article/pii/S0047259X15000950)."
   ]
  },
  {
   "cell_type": "code",
   "execution_count": 17,
   "metadata": {},
   "outputs": [
    {
     "data": {
      "text/plain": [
       "0.005"
      ]
     },
     "execution_count": 17,
     "metadata": {},
     "output_type": "execute_result"
    }
   ],
   "source": [
    "cobra_diagnostics.error_bound"
   ]
  },
  {
   "cell_type": "markdown",
   "metadata": {},
   "source": [
    "### Playing with Data-Splitting\n",
    "\n",
    "When we initially started to set up COBRA, we split our training data into two further parts - $D_k$, and $D_l$. \n",
    "This split was done 50-50, but it is upto us how we wish to do this. \n",
    "The following section will compare 20-80, 60-40, 50-50, 40-60, 80-20 and check for which case we get the best MSE values, for a fixed Epsilon (or use a grid)."
   ]
  },
  {
   "cell_type": "code",
   "execution_count": 18,
   "metadata": {},
   "outputs": [
    {
     "data": {
      "text/plain": [
       "((0.6, 0.4), 0.094492508707899853)"
      ]
     },
     "execution_count": 18,
     "metadata": {},
     "output_type": "execute_result"
    }
   ],
   "source": [
    "cobra_diagnostics.optimal_split(X_eps, Y_eps)"
   ]
  },
  {
   "cell_type": "markdown",
   "metadata": {},
   "source": [
    "What we saw was the default result, with the optimal split ratio and the corresponding MSE. We can do a further analysis here by enabling the info and graph options, and using more values to split on."
   ]
  },
  {
   "cell_type": "code",
   "execution_count": 19,
   "metadata": {
    "collapsed": true
   },
   "outputs": [],
   "source": [
    "split = [(0.05, 0.95), (0.10, 0.90), (0.20, 0.80), (0.40, 0.60), (0.50, 0.50), (0.60, 0.40), (0.80, 0.20), (0.90, 0.10), (0.95, 0.05)]"
   ]
  },
  {
   "cell_type": "code",
   "execution_count": 20,
   "metadata": {},
   "outputs": [
    {
     "data": {
      "text/plain": [
       "{(0.05, 0.95): 0.22007647014229548,\n",
       " (0.1, 0.9): 0.14938196212577773,\n",
       " (0.2, 0.8): 0.14173976690625464,\n",
       " (0.4, 0.6): 0.12201183033504397,\n",
       " (0.5, 0.5): 0.10572881591328129,\n",
       " (0.6, 0.4): 0.094492508707899853,\n",
       " (0.8, 0.2): 0.12038399389925082,\n",
       " (0.9, 0.1): 0.15058892872027313,\n",
       " (0.95, 0.05): 0.31485718698333626}"
      ]
     },
     "execution_count": 20,
     "metadata": {},
     "output_type": "execute_result"
    },
    {
     "data": {
      "image/png": "[encoded data removed]",
      "text/plain": [
       "<matplotlib.figure.Figure at 0x111c0ca90>"
      ]
     },
     "metadata": {},
     "output_type": "display_data"
    }
   ],
   "source": [
    "cobra_diagnostics.optimal_split(X_eps, Y_eps, split=split, info=True, graph=True)"
   ]
  },
  {
   "cell_type": "markdown",
   "metadata": {},
   "source": [
    "### Alpha, Epsilon and Machines\n",
    "\n",
    "The following are methods to idetify the optimal epislon values, alpha values, and combination of machines. \n",
    "The grid methods allow for us to predict for a single point the optimal alpha/machines and epsilon combination.\n",
    "\n",
    "#### Epsilon\n",
    "\n",
    "The epsilon paramter controls how \"strict\" cobra should behave while choosing the points to aggregate. "
   ]
  },
  {
   "cell_type": "code",
   "execution_count": 21,
   "metadata": {
    "scrolled": true
   },
   "outputs": [
    {
     "data": {
      "text/plain": [
       "(0.49012865501307668, 0.10577705316919428)"
      ]
     },
     "execution_count": 21,
     "metadata": {},
     "output_type": "execute_result"
    }
   ],
   "source": [
    "cobra_diagnostics.optimal_epsilon(X_eps, Y_eps, line_points=100)"
   ]
  },
  {
   "cell_type": "markdown",
   "metadata": {},
   "source": [
    "#### Alpha\n",
    "\n",
    "The alpha parameter decides how many machines must a point be picked up by before being added to an aggregate. The default value is 4."
   ]
  },
  {
   "cell_type": "code",
   "execution_count": 22,
   "metadata": {},
   "outputs": [
    {
     "data": {
      "text/plain": [
       "{1: 0.41889483894680962,\n",
       " 2: 0.23664915543154075,\n",
       " 3: 0.14780647200325731,\n",
       " 4: 0.10572881591328129}"
      ]
     },
     "execution_count": 22,
     "metadata": {},
     "output_type": "execute_result"
    }
   ],
   "source": [
    "cobra_diagnostics.optimal_alpha(X_eps, Y_eps, info=True)"
   ]
  },
  {
   "cell_type": "markdown",
   "metadata": {},
   "source": [
    "In this particular case, the best performance is obtained by seeking consensus over all 4 machines."
   ]
  },
  {
   "cell_type": "markdown",
   "metadata": {},
   "source": [
    "#### Machines\n",
    "\n",
    "Decide which subset of machines to select for the aggregate."
   ]
  },
  {
   "cell_type": "code",
   "execution_count": 23,
   "metadata": {},
   "outputs": [
    {
     "data": {
      "text/plain": [
       "{('lasso',): 0.1487363755470355,\n",
       " ('random_forest',): 0.12176465358802234,\n",
       " ('random_forest', 'lasso'): 0.10807224096632587,\n",
       " ('ridge',): 0.16226802562230169,\n",
       " ('ridge', 'lasso'): 0.14830358127933152,\n",
       " ('ridge', 'random_forest'): 0.10999522304007556,\n",
       " ('ridge', 'random_forest', 'lasso'): 0.10870759942102363,\n",
       " ('ridge', 'tree'): 0.12607929212145341,\n",
       " ('ridge', 'tree', 'lasso'): 0.12106638669612195,\n",
       " ('ridge', 'tree', 'random_forest'): 0.10644604534573869,\n",
       " ('ridge', 'tree', 'random_forest', 'lasso'): 0.10572881591328129,\n",
       " ('tree',): 0.17175698225945865,\n",
       " ('tree', 'lasso'): 0.11994542013758974,\n",
       " ('tree', 'random_forest'): 0.11402675943319736,\n",
       " ('tree', 'random_forest', 'lasso'): 0.10504926738092327}"
      ]
     },
     "execution_count": 23,
     "metadata": {},
     "output_type": "execute_result"
    }
   ],
   "source": [
    "cobra_diagnostics.optimal_machines(X_eps, Y_eps, info=True)"
   ]
  },
  {
   "cell_type": "code",
   "execution_count": 24,
   "metadata": {},
   "outputs": [
    {
     "data": {
      "text/plain": [
       "((4, 0.52513784465686786), array([  8.91114164e-08]))"
      ]
     },
     "execution_count": 24,
     "metadata": {},
     "output_type": "execute_result"
    }
   ],
   "source": [
    "cobra_diagnostics.optimal_alpha_grid(X_eps[0], Y_eps[0], line_points=100)"
   ]
  },
  {
   "cell_type": "code",
   "execution_count": 25,
   "metadata": {},
   "outputs": [
    {
     "data": {
      "text/plain": [
       "((('random_forest', 'lasso'), 0.35009189643791189), array([  1.72540771e-08]))"
      ]
     },
     "execution_count": 25,
     "metadata": {},
     "output_type": "execute_result"
    }
   ],
   "source": [
    "cobra_diagnostics.optimal_machines_grid(X_eps[0], Y_eps[0], line_points=100)"
   ]
  },
  {
   "cell_type": "markdown",
   "metadata": {},
   "source": [
    "Increasing the number of line points helps in finding a better optimal value. These are the results for the same point. The MSEs are to the second value of the tuple.\n",
    "\n",
    "With 10:\n",
    "((('ridge', 'random_forest', 'lasso'), 1.1063905961135443), 0.96254542159345469)\n",
    " \n",
    "With 20: \n",
    "((('tree', 'random_forest'), 0.87346626008964035), 0.53850941611803993)\n",
    "\n",
    "With 50:\n",
    "((('ridge', 'tree'), 0.94833479666875231), 0.48256303899450931)\n",
    "\n",
    "With 100:\n",
    "((('ridge', 'tree', 'random_forest'), 0.10058096328304948), 0.30285776885759158)\n",
    "\n",
    "With 200: \n",
    "((('ridge', 'tree', 'lasso'), 0.10007553130675276), 0.30285776885759158)"
   ]
  },
  {
   "cell_type": "markdown",
   "metadata": {},
   "source": [
    "pycobra is Licensed under the MIT License - https://opensource.org/licenses/MIT"
   ]
  }
 ],
 "metadata": {
  "kernelspec": {
   "display_name": "Python 2",
   "language": "python",
   "name": "python2"
  },
  "language_info": {
   "codemirror_mode": {
    "name": "ipython",
    "version": 2
   },
   "file_extension": ".py",
   "mimetype": "text/x-python",
   "name": "python",
   "nbconvert_exporter": "python",
   "pygments_lexer": "ipython2",
   "version": "2.7.14"
  }
 },
 "nbformat": 4,
 "nbformat_minor": 1
}
